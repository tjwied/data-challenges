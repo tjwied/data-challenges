{
 "cells": [
  {
   "cell_type": "markdown",
   "metadata": {},
   "source": [
    "# Should a price change be adopted?\n",
    "\n",
    "# Problem\n",
    "A company is running an A/B test where they have changed the price for a product from $39 (control) to $59. Should the company keep that price or change it back to the old price?\n",
    "\n",
    "# The Data\n",
    "The data is contained in two .csv datasets. \n",
    "1. A user table with information about the user who clicked an ad for the product (ID, city, device), as well as which test they belong to, and whether they purchased the product.\n",
    "2. A test results table which contains data for each ad click through, i.e., timestamp, source, device, as well as which test the user belongs to, and whether they purchased the product.\n",
    "\n",
    "# My Solution\n",
    "\n",
    "I calculated revenue per visitor for users in both test groups, and then split the data into 1 of 12 weeks. Then I ran a t-test between the two groups to test for a significant difference\n",
    "\n",
    "# Results\n",
    "\n",
    "Overall, although conversion rates decreased for the $59 product, the revenue per visit increased from $0.77 to $0.91. This result was significant (p < 0.00001). \n",
    "\n",
    "# Actionable advice\n",
    "\n",
    "If the company cares about optimizing profit margin, the product price should not change. If the company cares more about raw conversion rates, that is if they care more about widely distributing their product in the short-term to improve consumer recognition, and do not care as much about optimizing profit margins, then the price should not change."
   ]
  },
  {
   "cell_type": "code",
   "execution_count": 1,
   "metadata": {},
   "outputs": [],
   "source": [
    "import pandas as pd\n",
    "import seaborn as sns\n",
    "import matplotlib.pyplot as plt\n",
    "from scipy import stats\n",
    "import numpy as np"
   ]
  },
  {
   "cell_type": "code",
   "execution_count": 2,
   "metadata": {},
   "outputs": [],
   "source": [
    "user = pd.read_csv('/home/rubisco/Desktop/data-challenges/pricing/user_table.csv')\n",
    "test = pd.read_csv('/home/rubisco/Desktop/data-challenges/pricing/test_results.csv')"
   ]
  },
  {
   "cell_type": "code",
   "execution_count": 3,
   "metadata": {},
   "outputs": [
    {
     "data": {
      "text/html": [
       "<div>\n",
       "<style scoped>\n",
       "    .dataframe tbody tr th:only-of-type {\n",
       "        vertical-align: middle;\n",
       "    }\n",
       "\n",
       "    .dataframe tbody tr th {\n",
       "        vertical-align: top;\n",
       "    }\n",
       "\n",
       "    .dataframe thead th {\n",
       "        text-align: right;\n",
       "    }\n",
       "</style>\n",
       "<table border=\"1\" class=\"dataframe\">\n",
       "  <thead>\n",
       "    <tr style=\"text-align: right;\">\n",
       "      <th></th>\n",
       "      <th>user_id</th>\n",
       "      <th>city</th>\n",
       "      <th>country</th>\n",
       "      <th>lat</th>\n",
       "      <th>long</th>\n",
       "    </tr>\n",
       "  </thead>\n",
       "  <tbody>\n",
       "    <tr>\n",
       "      <th>0</th>\n",
       "      <td>510335</td>\n",
       "      <td>Peabody</td>\n",
       "      <td>USA</td>\n",
       "      <td>42.53</td>\n",
       "      <td>-70.97</td>\n",
       "    </tr>\n",
       "    <tr>\n",
       "      <th>1</th>\n",
       "      <td>89568</td>\n",
       "      <td>Reno</td>\n",
       "      <td>USA</td>\n",
       "      <td>39.54</td>\n",
       "      <td>-119.82</td>\n",
       "    </tr>\n",
       "    <tr>\n",
       "      <th>2</th>\n",
       "      <td>434134</td>\n",
       "      <td>Rialto</td>\n",
       "      <td>USA</td>\n",
       "      <td>34.11</td>\n",
       "      <td>-117.39</td>\n",
       "    </tr>\n",
       "    <tr>\n",
       "      <th>3</th>\n",
       "      <td>289769</td>\n",
       "      <td>Carson City</td>\n",
       "      <td>USA</td>\n",
       "      <td>39.15</td>\n",
       "      <td>-119.74</td>\n",
       "    </tr>\n",
       "    <tr>\n",
       "      <th>4</th>\n",
       "      <td>939586</td>\n",
       "      <td>Chicago</td>\n",
       "      <td>USA</td>\n",
       "      <td>41.84</td>\n",
       "      <td>-87.68</td>\n",
       "    </tr>\n",
       "  </tbody>\n",
       "</table>\n",
       "</div>"
      ],
      "text/plain": [
       "   user_id         city country    lat    long\n",
       "0   510335      Peabody     USA  42.53  -70.97\n",
       "1    89568         Reno     USA  39.54 -119.82\n",
       "2   434134       Rialto     USA  34.11 -117.39\n",
       "3   289769  Carson City     USA  39.15 -119.74\n",
       "4   939586      Chicago     USA  41.84  -87.68"
      ]
     },
     "execution_count": 3,
     "metadata": {},
     "output_type": "execute_result"
    }
   ],
   "source": [
    "user.head()"
   ]
  },
  {
   "cell_type": "code",
   "execution_count": 4,
   "metadata": {},
   "outputs": [
    {
     "data": {
      "text/html": [
       "<div>\n",
       "<style scoped>\n",
       "    .dataframe tbody tr th:only-of-type {\n",
       "        vertical-align: middle;\n",
       "    }\n",
       "\n",
       "    .dataframe tbody tr th {\n",
       "        vertical-align: top;\n",
       "    }\n",
       "\n",
       "    .dataframe thead th {\n",
       "        text-align: right;\n",
       "    }\n",
       "</style>\n",
       "<table border=\"1\" class=\"dataframe\">\n",
       "  <thead>\n",
       "    <tr style=\"text-align: right;\">\n",
       "      <th></th>\n",
       "      <th>user_id</th>\n",
       "      <th>timestamp</th>\n",
       "      <th>source</th>\n",
       "      <th>device</th>\n",
       "      <th>operative_system</th>\n",
       "      <th>test</th>\n",
       "      <th>price</th>\n",
       "      <th>converted</th>\n",
       "    </tr>\n",
       "  </thead>\n",
       "  <tbody>\n",
       "    <tr>\n",
       "      <th>0</th>\n",
       "      <td>604839</td>\n",
       "      <td>2015-05-08 03:38:34</td>\n",
       "      <td>ads_facebook</td>\n",
       "      <td>mobile</td>\n",
       "      <td>iOS</td>\n",
       "      <td>0</td>\n",
       "      <td>39</td>\n",
       "      <td>0</td>\n",
       "    </tr>\n",
       "    <tr>\n",
       "      <th>1</th>\n",
       "      <td>624057</td>\n",
       "      <td>2015-05-10 21:08:46</td>\n",
       "      <td>seo-google</td>\n",
       "      <td>mobile</td>\n",
       "      <td>android</td>\n",
       "      <td>0</td>\n",
       "      <td>39</td>\n",
       "      <td>0</td>\n",
       "    </tr>\n",
       "    <tr>\n",
       "      <th>2</th>\n",
       "      <td>317970</td>\n",
       "      <td>2015-04-04 15:01:23</td>\n",
       "      <td>ads-bing</td>\n",
       "      <td>mobile</td>\n",
       "      <td>android</td>\n",
       "      <td>0</td>\n",
       "      <td>39</td>\n",
       "      <td>0</td>\n",
       "    </tr>\n",
       "    <tr>\n",
       "      <th>3</th>\n",
       "      <td>685636</td>\n",
       "      <td>2015-05-07 07:26:01</td>\n",
       "      <td>direct_traffic</td>\n",
       "      <td>mobile</td>\n",
       "      <td>iOS</td>\n",
       "      <td>1</td>\n",
       "      <td>59</td>\n",
       "      <td>0</td>\n",
       "    </tr>\n",
       "    <tr>\n",
       "      <th>4</th>\n",
       "      <td>820854</td>\n",
       "      <td>2015-05-24 11:04:40</td>\n",
       "      <td>ads_facebook</td>\n",
       "      <td>web</td>\n",
       "      <td>mac</td>\n",
       "      <td>0</td>\n",
       "      <td>39</td>\n",
       "      <td>0</td>\n",
       "    </tr>\n",
       "  </tbody>\n",
       "</table>\n",
       "</div>"
      ],
      "text/plain": [
       "   user_id            timestamp          source  device operative_system  \\\n",
       "0   604839  2015-05-08 03:38:34    ads_facebook  mobile              iOS   \n",
       "1   624057  2015-05-10 21:08:46      seo-google  mobile          android   \n",
       "2   317970  2015-04-04 15:01:23        ads-bing  mobile          android   \n",
       "3   685636  2015-05-07 07:26:01  direct_traffic  mobile              iOS   \n",
       "4   820854  2015-05-24 11:04:40    ads_facebook     web              mac   \n",
       "\n",
       "   test  price  converted  \n",
       "0     0     39          0  \n",
       "1     0     39          0  \n",
       "2     0     39          0  \n",
       "3     1     59          0  \n",
       "4     0     39          0  "
      ]
     },
     "execution_count": 4,
     "metadata": {},
     "output_type": "execute_result"
    }
   ],
   "source": [
    "test.head()"
   ]
  },
  {
   "cell_type": "code",
   "execution_count": 5,
   "metadata": {
    "scrolled": true
   },
   "outputs": [
    {
     "data": {
      "text/html": [
       "<div>\n",
       "<style scoped>\n",
       "    .dataframe tbody tr th:only-of-type {\n",
       "        vertical-align: middle;\n",
       "    }\n",
       "\n",
       "    .dataframe tbody tr th {\n",
       "        vertical-align: top;\n",
       "    }\n",
       "\n",
       "    .dataframe thead th {\n",
       "        text-align: right;\n",
       "    }\n",
       "</style>\n",
       "<table border=\"1\" class=\"dataframe\">\n",
       "  <thead>\n",
       "    <tr style=\"text-align: right;\">\n",
       "      <th></th>\n",
       "      <th>converted</th>\n",
       "    </tr>\n",
       "  </thead>\n",
       "  <tbody>\n",
       "    <tr>\n",
       "      <th>0</th>\n",
       "      <td>310992</td>\n",
       "    </tr>\n",
       "    <tr>\n",
       "      <th>1</th>\n",
       "      <td>5808</td>\n",
       "    </tr>\n",
       "  </tbody>\n",
       "</table>\n",
       "</div>"
      ],
      "text/plain": [
       "   converted\n",
       "0     310992\n",
       "1       5808"
      ]
     },
     "execution_count": 5,
     "metadata": {},
     "output_type": "execute_result"
    }
   ],
   "source": [
    "# How many users actually ended up purchasing the product\n",
    "\n",
    "pd.DataFrame(test['converted'].value_counts())"
   ]
  },
  {
   "cell_type": "code",
   "execution_count": 6,
   "metadata": {},
   "outputs": [],
   "source": [
    "# Extract Y-M-D from the timestamp column\n",
    "\n",
    "arry = []\n",
    "for element in test['timestamp']:\n",
    "    x = element.split()\n",
    "    arry.append(pd.to_datetime(x[0]))"
   ]
  },
  {
   "cell_type": "code",
   "execution_count": 13,
   "metadata": {
    "scrolled": true
   },
   "outputs": [
    {
     "data": {
      "image/png": "[encoded data removed]",
      "text/plain": [
       "<Figure size 432x288 with 1 Axes>"
      ]
     },
     "metadata": {
      "needs_background": "light"
     },
     "output_type": "display_data"
    }
   ],
   "source": [
    "# Add Week Number to \"test\" dataframe and plotting total number of hits by week number. \n",
    "\n",
    "df = pd.DataFrame(arry, columns=['week_num'])\n",
    "week_num = pd.DataFrame(df['week_num'].dt.week)\n",
    "test1 = test.join(week_num)\n",
    "x = pd.DataFrame(test1['week_num'].value_counts()).sort_index(ascending=True)\n",
    "x.plot();"
   ]
  },
  {
   "cell_type": "code",
   "execution_count": null,
   "metadata": {},
   "outputs": [],
   "source": []
  },
  {
   "cell_type": "code",
   "execution_count": 24,
   "metadata": {},
   "outputs": [
    {
     "data": {
      "image/png": "[encoded data removed]",
      "text/plain": [
       "<Figure size 432x288 with 1 Axes>"
      ]
     },
     "metadata": {
      "needs_background": "light"
     },
     "output_type": "display_data"
    }
   ],
   "source": [
    "control = test1.loc[test1['test'] == 0]\n",
    "exp = test1.loc[test1['test'] == 1]\n",
    "control_sum = pd.DataFrame(control.groupby(['week_num']).sum()['converted']/control.groupby(['week_num']).count()['converted']).reset_index()\n",
    "exp_sum = pd.DataFrame(exp.groupby(['week_num']).sum()['converted']/exp.groupby(['week_num']).count()['converted']).reset_index()\n",
    "control_rev = pd.DataFrame(39*control_sum['converted'])\n",
    "exp_rev = pd.DataFrame(59*exp_sum['converted'])\n",
    "plt.plot(control_sum['week_num'], control_rev, control_sum['week_num'], exp_rev);"
   ]
  },
  {
   "cell_type": "code",
   "execution_count": 41,
   "metadata": {},
   "outputs": [
    {
     "name": "stdout",
     "output_type": "stream",
     "text": [
      "Experimental mean RPV = 0.9167368386492952\n",
      "Control mean RPV = 0.7761814131940039\n"
     ]
    }
   ],
   "source": [
    "# Putting weekly revenue totals \n",
    "\n",
    "con = np.array(control_rev['converted'])\n",
    "exp = np.array(exp_rev['converted'])\n",
    "print('Experimental mean RPV = ' + str(exp.mean()))\n",
    "print('Control mean RPV = ' + str(con.mean()))"
   ]
  },
  {
   "cell_type": "code",
   "execution_count": 33,
   "metadata": {},
   "outputs": [
    {
     "name": "stdout",
     "output_type": "stream",
     "text": [
      "p-value = 4.489364481718994e-06\n"
     ]
    }
   ],
   "source": [
    "# Perform t-test to detect significant difference between weekly control and experimental revenues\n",
    "\n",
    "N = len(con)\n",
    "var_con = con.var(ddof=1)\n",
    "var_exp = exp.var(ddof=1)\n",
    "s = np.sqrt((var_con + var_exp)/2)\n",
    "t = (exp.mean() - con.mean())/(s*np.sqrt(2/N))\n",
    "df = 2*N - 1\n",
    "p = 1 - stats.t.cdf(t,df=df)\n",
    "print('p-value = ' + str(p))"
   ]
  }
 ],
 "metadata": {
  "kernelspec": {
   "display_name": "Python 3",
   "language": "python",
   "name": "python3"
  },
  "language_info": {
   "codemirror_mode": {
    "name": "ipython",
    "version": 3
   },
   "file_extension": ".py",
   "mimetype": "text/x-python",
   "name": "python",
   "nbconvert_exporter": "python",
   "pygments_lexer": "ipython3",
   "version": "3.6.7"
  }
 },
 "nbformat": 4,
 "nbformat_minor": 2
}
